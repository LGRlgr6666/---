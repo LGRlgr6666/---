{
 "cells": [
  {
   "cell_type": "code",
   "execution_count": null,
   "id": "ba14d98c-0e8b-4640-8cc7-967eed00313d",
   "metadata": {},
   "outputs": [],
   "source": [
    "import numpy as np\n",
    "import matplotlib.pyplot as plt\n",
    "max_steps = 100  # 迭代次数\n",
    "dim = 2  # 搜索空间的维度\n",
    "population_size = 100  # 粒子群数量\n",
    "w = 0.6\n",
    "c1 = c2 = 2\n",
    "x_bound = [-10, 10]  # 解空间范围\n",
    "def calculate_fitness(x):\n",
    "    return np.sum(np.square(x), axis=1)\n",
    "def PSO_init(population_size,dim):\n",
    "    x = np.random.uniform(x_bound[0], x_bound[1], (population_size, dim))  # 初始化粒子群位置\n",
    "    # print('x=' +str(x))\n",
    "    v = np.random.rand(population_size, dim)  # 初始化粒子群速度\n",
    "    return x,v\n",
    "def PSO_fitness(v,p,x,pg,global_best_fitness):\n",
    "    for step in range(max_steps):\n",
    "        r1 = np.random.rand(population_size, dim)\n",
    "        r2 = np.random.rand(population_size, dim)\n",
    "        # 更新速度和权重\n",
    "        v = w * v + c1 * r1 * (p - x) + c2 * r2 * (pg - x)\n",
    "        x = v + x\n",
    "        plt.clf()\n",
    "        plt.scatter(x[:, 0], x[:, 1], s=30, color='k')\n",
    "        plt.xlim(x_bound[0] - 10, x_bound[1] + 10)\n",
    "        plt.ylim(x_bound[0] - 10, x_bound[1] + 10)\n",
    "        plt.pause(0.01)\n",
    "        fitness = calculate_fitness(x)\n",
    "        # 需要更新的个体\n",
    "        update_id = np.greater(individual_best_fitness, fitness)\n",
    "        p[update_id] = x[update_id]\n",
    "        individual_best_fitness[update_id] = fitness[update_id]\n",
    "        # 新一代出现了更小的fitness，所以更新全局最优fitness和位置\n",
    "        if np.min(fitness) < global_best_fitness:\n",
    "            pg = x[np.argmin(fitness)]\n",
    "            global_best_fitness = np.min(fitness)\n",
    "        print('best fitness: %.5f, mean fitness: %.5f' % (global_best_fitness, np.mean(fitness)))\n",
    "if __name__ == \"__main__\":\n",
    "    x,v=PSO_init(population_size,dim)\n",
    "    fitness = calculate_fitness(x)\n",
    "    p = x  # 个体的最佳位置\n",
    "    pg = x[np.argmin(fitness)]  # 全局最佳位置\n",
    "    individual_best_fitness = fitness  # 个体的最优适应度\n",
    "    global_best_fitness = np.min(fitness)  # 全局最佳适应度\n",
    "    fig = plt.figure()\n",
    "    PSO_fitness(v,p,x,pg,global_best_fitness)\n",
    "    plt.show()"
   ]
  },
  {
   "cell_type": "code",
   "execution_count": null,
   "id": "99c6537f-a904-4f33-9818-34e7cfc546f6",
   "metadata": {},
   "outputs": [],
   "source": []
  },
  {
   "cell_type": "code",
   "execution_count": null,
   "id": "c50a3c01-841b-4614-936a-dcd8430633aa",
   "metadata": {},
   "outputs": [],
   "source": []
  }
 ],
 "metadata": {
  "kernelspec": {
   "display_name": "Python 3",
   "language": "python",
   "name": "python3"
  },
  "language_info": {
   "codemirror_mode": {
    "name": "ipython",
    "version": 3
   },
   "file_extension": ".py",
   "mimetype": "text/x-python",
   "name": "python",
   "nbconvert_exporter": "python",
   "pygments_lexer": "ipython3",
   "version": "3.6.8"
  }
 },
 "nbformat": 4,
 "nbformat_minor": 5
}
