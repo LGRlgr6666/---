{
 "cells": [
  {
   "cell_type": "code",
   "execution_count": null,
   "id": "1ad67592-5a0e-4b7d-8261-af939e283aaf",
   "metadata": {},
   "outputs": [],
   "source": [
    "import numpy as np\n",
    "import matplotlib.pyplot as plt\n",
    "\n",
    "max_step = 100\n",
    "dim = 2\n",
    "pop_size = 100\n",
    "w = 0.6\n",
    "c1 = c2 = 2\n",
    "x_bound = [-10, 10]\n",
    "\n",
    "def PSO_init(pop_size, dim):\n",
    "    x = np.random.uniform(x_bound[0], x_bound[1], (pop_size, dim))\n",
    "    v = np.random.rand(pop_size, dim)\n",
    "    return x, v\n",
    "\n",
    "def calculate_fitness(x):\n",
    "    return np.sum(np.square(x), axis=1)\n",
    "\n",
    "def PSO_fintess(v, pbest, x, gbest, global_best_fitness):\n",
    "    for step in range(max_step):\n",
    "        r1 = np.random.rand(pop_size, dim)\n",
    "        r2 = np.random.rand(pop_size, dim)\n",
    "        v = w*v + c1*r1*(pbest - x) + c2*r2*(gbest - x)\n",
    "        x = x + v\n",
    "        plt.clf()\n",
    "        print('迭代次数：', step+1)\n",
    "        plt.scatter(x[:, 0], x[:, 1], s=30, color='b')\n",
    "        fitness = calculate_fitness(x)\n",
    "        update_id = np.greater(individual_best_fitness, fitness)\n",
    "        pbest[update_id] = x[update_id]\n",
    "        individual_best_fitness[update_id] = fitness[update_id]\n",
    "        if np.min(fitness) < global_best_fitness:\n",
    "            gbest = x[np.argmin(fitness)]\n",
    "            global_best_fitness = np.min(fitness)\n",
    "\n",
    "if __name__ == \"__main__\":\n",
    "    x, v = PSO_init(pop_size, dim)\n",
    "    fitness = calculate_fitness(x)\n",
    "    pbest = x\n",
    "    gbest = x[np.argmin(fitness)]\n",
    "    individual_best_fitness = fitness\n",
    "    global_best_fitness = np.min(fitness)\n",
    "    fig = plt.figure()\n",
    "    PSO_fintess(v, pbest, x, gbest, global_best_fitness)\n",
    "    plt.show()"
   ]
  },
  {
   "cell_type": "code",
   "execution_count": null,
   "id": "5dbd7d64-c550-4b09-a340-2ae25f68358f",
   "metadata": {},
   "outputs": [],
   "source": []
  }
 ],
 "metadata": {
  "kernelspec": {
   "display_name": "Python 3",
   "language": "python",
   "name": "python3"
  },
  "language_info": {
   "codemirror_mode": {
    "name": "ipython",
    "version": 3
   },
   "file_extension": ".py",
   "mimetype": "text/x-python",
   "name": "python",
   "nbconvert_exporter": "python",
   "pygments_lexer": "ipython3",
   "version": "3.6.8"
  }
 },
 "nbformat": 4,
 "nbformat_minor": 5
}
