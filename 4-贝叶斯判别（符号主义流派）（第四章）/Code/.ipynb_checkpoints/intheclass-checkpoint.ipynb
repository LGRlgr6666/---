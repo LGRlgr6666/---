{
 "cells": [
  {
   "cell_type": "code",
   "execution_count": 13,
   "id": "a3092054",
   "metadata": {},
   "outputs": [
    {
     "name": "stdout",
     "output_type": "stream",
     "text": [
      "[2. 1. 2. 3. 1. 2. 1. 2. 2. 2. 2. 1. 1. 2. 1. 2. 4. 1. 1. 2. 1. 1. 1. 2.\n",
      " 1. 1. 3. 1. 1. 1. 1. 2.]\n",
      "[1. 2. 1. 2. 2. 1. 2. 1. 1. 1. 2. 2. 2. 3. 2. 1. 1. 2. 4. 2. 2. 2. 2. 1.\n",
      " 2. 2. 1. 2. 2. 2. 2. 1.]\n",
      "21.0 26.0\n",
      "p1: -9.826714493730215 p0: -6.501700891824665\n",
      "0\n"
     ]
    }
   ],
   "source": [
    "import numpy as np\n",
    "from numpy import *\n",
    "\n",
    "def createDataSet():\n",
    "    postingList = [['my', 'dog', 'has', 'flea', 'problems', 'help', 'please'],#0 非侮辱\n",
    "            ['maybe', 'not', 'take', 'him', 'to', 'dog', 'park', 'stupid'],#1 侮辱类\n",
    "            ['my', 'dalmation', 'is', 'so', 'cute', 'I', 'love', 'him'],\n",
    "            ['stop', 'posting', 'stupid', 'worthless', 'garbage'],\n",
    "            ['mr', 'licks', 'ate', 'my', 'steak', 'how', 'to', 'stop', 'him'],\n",
    "            ['quit', 'buying', 'worthless', 'dog', 'food', 'stupid']\n",
    "                  ]\n",
    "    classVec=[0,1,0,1,0,1] \n",
    "    return postingList,classVec\n",
    "\n",
    "def createVocabList(dataSet):\n",
    "    vocabSet = set([])\n",
    "    for document in dataSet:\n",
    "        vocabSet = vocabSet | set(document)\n",
    "    return list(vocabSet)\n",
    "\n",
    "def oneDocument2Vec(myVocabList,inputSet):\n",
    "    returnVec = [0] * len(myVocabList) \n",
    "    for word in inputSet:\n",
    "        if word in myVocabList:\n",
    "            returnVec[myVocabList.index(word)] = 1\n",
    "        else:\n",
    "            print(\"the word: %s is not in my vocabulary\"%word)\n",
    " \n",
    "    return returnVec\n",
    "\n",
    "def document2Vec(myVocabList,postingList):\n",
    "    returnMatrix = []    \n",
    "    for document in postingList:\n",
    "        returnVec=[0] * len(myVocabList)        \n",
    "        for word in document:\n",
    "            if word in myVocabList:\n",
    "                returnVec[myVocabList.index(word)] = 1\n",
    "            else:\n",
    "                print(\"the word: %s is not in my vocabulary\"%word)\n",
    "#         print(returnVec)\n",
    "        returnMatrix.append(returnVec)\n",
    "    return returnMatrix\n",
    "\n",
    "# def trainNB(trainMat,classVec): #算类条件概率\n",
    "#     numTrainDocs = len(trainMat) # 6\n",
    "    \n",
    "#     numWords = len(trainMat[0]) # 32\n",
    "#     #侮辱类的先验概率pAbusive , 非侮辱类的先验概率： 1- pAbusive\n",
    "#     pAbusive = sum(classVec) /numTrainDocs #1/2\n",
    "    \n",
    "#     p0Num = np.zeros(numWords)\n",
    "#     p1Num = np.zeros(numWords)\n",
    "    \n",
    "#     p0Denom = 0.0\n",
    "#     p1Denom = 0.0\n",
    "    \n",
    "#     for i in range(numTrainDocs):\n",
    "#         if classVec[i] == 1:\n",
    "#             p1Num+=trainMat[i]\n",
    "#             # print(p1Num)\n",
    "#             p1Denom+=sum(trainMat[i])\n",
    "#             # print(p1Denom)\n",
    "#         else:\n",
    "#             p0Num+=trainMat[i]\n",
    "#             p0Denom+=sum(trainMat[i])\n",
    "            \n",
    "#     # print(p0Num)\n",
    "#     # print(p1Num)\n",
    "#     #侮辱类的类条件概率列表\n",
    "#     p1Vect = p1Num / p1Denom\n",
    "#     #非侮辱类的类条件概率列表\n",
    "#     p0Vect = p0Num / p0Denom\n",
    "#     return p0Vect,p1Vect,pAbusive\n",
    "\n",
    "def trainNB(trainMatrix,trainCategory): #算类条件概率\n",
    "    numTrainDocs = len(trainMatrix)  \n",
    "    numWords = len(trainMatrix[0])  \n",
    "    pAbuses = float(sum(trainCategory)) / float(numTrainDocs)  \n",
    "    p1Num = ones(numWords)  # ones(x,y)是生成x行y列数组且元素为1的函数。如果格式为ones(x),则为一维数组。  \n",
    "    p0Num = ones(numWords)  # 记录每个单词在该类出现的次数，是一个向量\n",
    "    p1Denom = 2.0  \n",
    "    p0Denom = 2.0  # 属于该类的总单词出现次数,是一个数  \n",
    "    for i in range(numTrainDocs):  \n",
    "        if trainCategory[i] == 1:  \n",
    "            p1Num += trainMatrix[i]  \n",
    "            p1Denom += sum(trainMatrix[i])  \n",
    "        else:  \n",
    "            p0Num += trainMatrix[i]  \n",
    "            p0Denom += sum(trainMatrix[i])  \n",
    "    print(p1Num)  \n",
    "    print(p0Num)  \n",
    "    print(p1Denom, p0Denom)  \n",
    "    p1Vec = log(p1Num / p1Denom)  \n",
    "    p0Vec = log(p0Num / p0Denom)  \n",
    "    return p0Vec, p1Vec, pAbuses\n",
    "\n",
    "def classifyNB(thisDocVec,p0Vect,p1Vect,pAbusive):\n",
    "    # print(thisDocVec)\n",
    "    # print(p0Vect)\n",
    "    # print(p1Vect)\n",
    "    # thisDocVec*p0Vect 它计算了thisDoc的word的类条件概率\n",
    "    # 变成docment的类条件概率\n",
    "    \n",
    "    # print( sum((thisDocVec*p0Vect).tolist()))\n",
    "    # print( sum((thisDocVec*p1Vect).tolist()))\n",
    "    p1 = sum((thisDocVec*p1Vect).tolist())+np.log(pAbusive)#侮辱类后验概率\n",
    "    p0 = sum((thisDocVec*p0Vect).tolist())+(1-pAbusive)#非侮辱类的后验概率 这样写就错了\n",
    "    print('p1:',p1,'p0:',p0)\n",
    "    if p1> p0:\n",
    "        return 1\n",
    "    else:\n",
    "        return 0\n",
    "    # return None\n",
    "\n",
    "if __name__ == '__main__':\n",
    "    #step1 数据集\n",
    "    postingList , classVec = createDataSet()\n",
    "    #step2 词典\n",
    "    myVocabList = createVocabList(postingList)\n",
    "    #step3 文档变成向量\n",
    "    trainMat = document2Vec(myVocabList,postingList) #文档向量集\n",
    "    #step4 计算类条件的单词概率 pr( dog | 侮辱类)... , pr(dog|非侮辱类)...\n",
    "    p0Vect,p1Vect,pAbusive = trainNB(trainMat,classVec)\n",
    "    # print(pAbusive)\n",
    "    # print(p0Vect)\n",
    "    # print(p1Vect)\n",
    "    # print(myVocabList)\n",
    "    testEntry = [ 'love', 'my', 'dalmation' ] \n",
    "    # testEntry = ['stupid', 'garbage']   \n",
    "    thisDocVec = np.array(oneDocument2Vec(myVocabList,testEntry))\n",
    "    print(classifyNB(thisDocVec,p0Vect,p1Vect,pAbusive))\n",
    "    # print(thisDocVec)"
   ]
  },
  {
   "cell_type": "code",
   "execution_count": 18,
   "id": "f3b0d02d",
   "metadata": {},
   "outputs": [
    {
     "data": {
      "text/plain": [
       "[['my', 'dog', 'has', 'flea', 'problems', 'help', 'please'],\n",
       " ['maybe', 'not', 'take', 'him', 'to', 'dog', 'park', 'stupid'],\n",
       " ['my', 'dalmation', 'is', 'so', 'cute', 'I', 'love', 'him'],\n",
       " ['stop', 'posting', 'stupid', 'worthless', 'garbage'],\n",
       " ['mr', 'licks', 'ate', 'my', 'steak', 'how', 'to', 'stop', 'him'],\n",
       " ['quit', 'buying', 'worthless', 'dog', 'food', 'stupid']]"
      ]
     },
     "execution_count": 18,
     "metadata": {},
     "output_type": "execute_result"
    }
   ],
   "source": [
    "postingList"
   ]
  },
  {
   "cell_type": "code",
   "execution_count": 6,
   "id": "96838017",
   "metadata": {},
   "outputs": [
    {
     "data": {
      "text/plain": [
       "0.15"
      ]
     },
     "execution_count": 6,
     "metadata": {},
     "output_type": "execute_result"
    }
   ],
   "source": [
    "(1+2+3 )/ (8+13+19)"
   ]
  },
  {
   "cell_type": "code",
   "execution_count": null,
   "id": "6f2ea770-0ae8-419a-be42-fa48feb7326e",
   "metadata": {},
   "outputs": [],
   "source": []
  }
 ],
 "metadata": {
  "kernelspec": {
   "display_name": "Python 3",
   "language": "python",
   "name": "python3"
  },
  "language_info": {
   "codemirror_mode": {
    "name": "ipython",
    "version": 3
   },
   "file_extension": ".py",
   "mimetype": "text/x-python",
   "name": "python",
   "nbconvert_exporter": "python",
   "pygments_lexer": "ipython3",
   "version": "3.6.8"
  }
 },
 "nbformat": 4,
 "nbformat_minor": 5
}
